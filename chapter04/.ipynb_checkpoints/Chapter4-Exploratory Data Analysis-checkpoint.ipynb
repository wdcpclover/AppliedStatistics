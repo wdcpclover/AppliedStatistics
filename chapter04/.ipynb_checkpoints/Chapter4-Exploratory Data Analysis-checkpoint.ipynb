{
 "cells": [
  {
   "cell_type": "markdown",
   "metadata": {},
   "source": [
    "# Chapter 04 Exploratory Data Analysis"
   ]
  },
  {
   "cell_type": "markdown",
   "metadata": {},
   "source": [
    "## About BRFSS\n",
    "* The Behavioral Risk Factor Surveillance System (BRFSS) is the nation’s premier system of health-related telephone surveys that collect state data about U.S. residents regarding their health-related risk behaviors, chronic health conditions, and use of preventive services. Established in 1984 with 15 states, BRFSS now collects data in all 50 states as well as the District of Columbia and three U.S. territories. BRFSS completes more than 400,000 adult interviews each year, making it the largest continuously conducted health survey system in the world.\n",
    "* By collecting behavioral health risk data at the state and local level, BRFSS has become a powerful tool for targeting and building health promotion activities. As a result, BRFSS users have increasingly demanded more data and asked for more questions on the survey.\n",
    "[https://www.cdc.gov/brfss/about/index.htm](https://www.cdc.gov/brfss/about/index.htm)"
   ]
  },
  {
   "cell_type": "markdown",
   "metadata": {},
   "source": [
    "## Example 1 -- Numerical Description Statistics\n",
    "* Question: Are the rich fatter than the other person in American society today?\n",
    "* Data: BRFSS survey data for 2015.\n",
    "* Key Indicators: household income level, which is used to distinguish the rich from the ordinary; BMI, defined as weight (kg) divided by height (m) squared, is used to measure obesity."
   ]
  },
  {
   "cell_type": "markdown",
   "metadata": {},
   "source": [
    "### Import Data"
   ]
  },
  {
   "cell_type": "code",
   "execution_count": 1,
   "metadata": {},
   "outputs": [],
   "source": [
    "# Import modules\n",
    "import pandas as pd \n",
    "import numpy as np\n",
    "from scipy import stats\n",
    "import matplotlib.pyplot as plt\n",
    "import seaborn as sns"
   ]
  },
  {
   "cell_type": "markdown",
   "metadata": {},
   "source": [
    "* BRFSS data contains hundreds of dimensions of indicators, so we need to read its Codebook to understand the meaning of the data and find the indicators we need.\n",
    "* The raw data is in ASCII format and needs to be read using **panda.read_fwf()**.Cleaning requires not only the correct extraction of the required variables, but also the proper transformation of the data into something we can understand.\n",
    "* Here, the data extraction and cleaning code is stored in **brfss.py**. Just import it as follows."
   ]
  },
  {
   "cell_type": "code",
   "execution_count": 2,
   "metadata": {},
   "outputs": [],
   "source": [
    "import brfss\n",
    "df = brfss.ReadBrfss()"
   ]
  },
  {
   "cell_type": "code",
   "execution_count": 3,
   "metadata": {},
   "outputs": [
    {
     "data": {
      "text/html": [
       "<div>\n",
       "<style scoped>\n",
       "    .dataframe tbody tr th:only-of-type {\n",
       "        vertical-align: middle;\n",
       "    }\n",
       "\n",
       "    .dataframe tbody tr th {\n",
       "        vertical-align: top;\n",
       "    }\n",
       "\n",
       "    .dataframe thead th {\n",
       "        text-align: right;\n",
       "    }\n",
       "</style>\n",
       "<table border=\"1\" class=\"dataframe\">\n",
       "  <thead>\n",
       "    <tr style=\"text-align: right;\">\n",
       "      <th></th>\n",
       "      <th>sex</th>\n",
       "      <th>age</th>\n",
       "      <th>edu</th>\n",
       "      <th>marital</th>\n",
       "      <th>employ</th>\n",
       "      <th>income</th>\n",
       "      <th>health</th>\n",
       "      <th>bmi</th>\n",
       "      <th>height</th>\n",
       "      <th>weight</th>\n",
       "      <th>exercise</th>\n",
       "      <th>workhour</th>\n",
       "      <th>exemin</th>\n",
       "      <th>fruit</th>\n",
       "      <th>vegetable</th>\n",
       "    </tr>\n",
       "  </thead>\n",
       "  <tbody>\n",
       "    <tr>\n",
       "      <th>0</th>\n",
       "      <td>F</td>\n",
       "      <td>63</td>\n",
       "      <td>4</td>\n",
       "      <td>1</td>\n",
       "      <td>8</td>\n",
       "      <td>3.0</td>\n",
       "      <td>5.0</td>\n",
       "      <td>40.18</td>\n",
       "      <td>1.78</td>\n",
       "      <td>127.01</td>\n",
       "      <td>False</td>\n",
       "      <td>NaN</td>\n",
       "      <td>NaN</td>\n",
       "      <td>False</td>\n",
       "      <td>True</td>\n",
       "    </tr>\n",
       "    <tr>\n",
       "      <th>1</th>\n",
       "      <td>F</td>\n",
       "      <td>52</td>\n",
       "      <td>6</td>\n",
       "      <td>2</td>\n",
       "      <td>3</td>\n",
       "      <td>1.0</td>\n",
       "      <td>3.0</td>\n",
       "      <td>25.09</td>\n",
       "      <td>1.73</td>\n",
       "      <td>74.84</td>\n",
       "      <td>True</td>\n",
       "      <td>60.0</td>\n",
       "      <td>168.0</td>\n",
       "      <td>False</td>\n",
       "      <td>False</td>\n",
       "    </tr>\n",
       "    <tr>\n",
       "      <th>2</th>\n",
       "      <td>F</td>\n",
       "      <td>71</td>\n",
       "      <td>4</td>\n",
       "      <td>2</td>\n",
       "      <td>7</td>\n",
       "      <td>NaN</td>\n",
       "      <td>4.0</td>\n",
       "      <td>22.04</td>\n",
       "      <td>1.80</td>\n",
       "      <td>71.67</td>\n",
       "      <td>NaN</td>\n",
       "      <td>NaN</td>\n",
       "      <td>NaN</td>\n",
       "      <td>NaN</td>\n",
       "      <td>NaN</td>\n",
       "    </tr>\n",
       "    <tr>\n",
       "      <th>3</th>\n",
       "      <td>F</td>\n",
       "      <td>63</td>\n",
       "      <td>4</td>\n",
       "      <td>1</td>\n",
       "      <td>8</td>\n",
       "      <td>8.0</td>\n",
       "      <td>5.0</td>\n",
       "      <td>28.19</td>\n",
       "      <td>1.70</td>\n",
       "      <td>81.65</td>\n",
       "      <td>False</td>\n",
       "      <td>NaN</td>\n",
       "      <td>NaN</td>\n",
       "      <td>True</td>\n",
       "      <td>False</td>\n",
       "    </tr>\n",
       "    <tr>\n",
       "      <th>4</th>\n",
       "      <td>F</td>\n",
       "      <td>61</td>\n",
       "      <td>5</td>\n",
       "      <td>1</td>\n",
       "      <td>8</td>\n",
       "      <td>NaN</td>\n",
       "      <td>5.0</td>\n",
       "      <td>24.37</td>\n",
       "      <td>1.63</td>\n",
       "      <td>64.41</td>\n",
       "      <td>False</td>\n",
       "      <td>45.0</td>\n",
       "      <td>NaN</td>\n",
       "      <td>NaN</td>\n",
       "      <td>True</td>\n",
       "    </tr>\n",
       "  </tbody>\n",
       "</table>\n",
       "</div>"
      ],
      "text/plain": [
       "  sex  age  edu  marital  employ  income  health    bmi  height  weight  \\\n",
       "0   F   63    4        1       8     3.0     5.0  40.18    1.78  127.01   \n",
       "1   F   52    6        2       3     1.0     3.0  25.09    1.73   74.84   \n",
       "2   F   71    4        2       7     NaN     4.0  22.04    1.80   71.67   \n",
       "3   F   63    4        1       8     8.0     5.0  28.19    1.70   81.65   \n",
       "4   F   61    5        1       8     NaN     5.0  24.37    1.63   64.41   \n",
       "\n",
       "  exercise  workhour  exemin  fruit vegetable  \n",
       "0    False       NaN     NaN  False      True  \n",
       "1     True      60.0   168.0  False     False  \n",
       "2      NaN       NaN     NaN    NaN       NaN  \n",
       "3    False       NaN     NaN   True     False  \n",
       "4    False      45.0     NaN    NaN      True  "
      ]
     },
     "execution_count": 3,
     "metadata": {},
     "output_type": "execute_result"
    }
   ],
   "source": [
    "df.head()"
   ]
  },
  {
   "cell_type": "code",
   "execution_count": 4,
   "metadata": {},
   "outputs": [
    {
     "data": {
      "text/html": [
       "<div>\n",
       "<style scoped>\n",
       "    .dataframe tbody tr th:only-of-type {\n",
       "        vertical-align: middle;\n",
       "    }\n",
       "\n",
       "    .dataframe tbody tr th {\n",
       "        vertical-align: top;\n",
       "    }\n",
       "\n",
       "    .dataframe thead th {\n",
       "        text-align: right;\n",
       "    }\n",
       "</style>\n",
       "<table border=\"1\" class=\"dataframe\">\n",
       "  <thead>\n",
       "    <tr style=\"text-align: right;\">\n",
       "      <th></th>\n",
       "      <th>bmi</th>\n",
       "      <th>income</th>\n",
       "    </tr>\n",
       "  </thead>\n",
       "  <tbody>\n",
       "    <tr>\n",
       "      <th>0</th>\n",
       "      <td>40.18</td>\n",
       "      <td>3.0</td>\n",
       "    </tr>\n",
       "    <tr>\n",
       "      <th>1</th>\n",
       "      <td>25.09</td>\n",
       "      <td>1.0</td>\n",
       "    </tr>\n",
       "    <tr>\n",
       "      <th>3</th>\n",
       "      <td>28.19</td>\n",
       "      <td>8.0</td>\n",
       "    </tr>\n",
       "    <tr>\n",
       "      <th>5</th>\n",
       "      <td>26.52</td>\n",
       "      <td>6.0</td>\n",
       "    </tr>\n",
       "    <tr>\n",
       "      <th>6</th>\n",
       "      <td>23.89</td>\n",
       "      <td>4.0</td>\n",
       "    </tr>\n",
       "  </tbody>\n",
       "</table>\n",
       "</div>"
      ],
      "text/plain": [
       "     bmi  income\n",
       "0  40.18     3.0\n",
       "1  25.09     1.0\n",
       "3  28.19     8.0\n",
       "5  26.52     6.0\n",
       "6  23.89     4.0"
      ]
     },
     "execution_count": 4,
     "metadata": {},
     "output_type": "execute_result"
    }
   ],
   "source": [
    "# Select two columns of data, BMI and Income. And drop the missing data.\n",
    "bmi_income = df[['bmi','income']].dropna()\n",
    "bmi_income.head()"
   ]
  },
  {
   "cell_type": "markdown",
   "metadata": {},
   "source": [
    "### Information of Data"
   ]
  },
  {
   "cell_type": "code",
   "execution_count": 5,
   "metadata": {},
   "outputs": [
    {
     "name": "stdout",
     "output_type": "stream",
     "text": [
      "<class 'pandas.core.frame.DataFrame'>\n",
      "Int64Index: 343092 entries, 0 to 441455\n",
      "Data columns (total 2 columns):\n",
      " #   Column  Non-Null Count   Dtype  \n",
      "---  ------  --------------   -----  \n",
      " 0   bmi     343092 non-null  float64\n",
      " 1   income  343092 non-null  float64\n",
      "dtypes: float64(2)\n",
      "memory usage: 7.9 MB\n"
     ]
    }
   ],
   "source": [
    "# Use the info() method to see the whole picture of the data\n",
    "bmi_income.info()"
   ]
  },
  {
   "cell_type": "markdown",
   "metadata": {},
   "source": [
    "* The Income column represents the income level, which is divided into 8 levels, respectively represented by numbers 1 to 8. Level 8 refers to the people with an annual family income of more than 75,000 US dollars. Here, we define Level 8 as the rich, and the others Level 1-7 as the ordinary people.\n",
    "* Then the BMI data of rich people with income level 8 is extracted and stored in the variable **bmi_rich**, and the BMI data of other ordinary people are stored in the variable **bmi_ord**."
   ]
  },
  {
   "cell_type": "code",
   "execution_count": 6,
   "metadata": {},
   "outputs": [
    {
     "data": {
      "text/plain": [
       "count    110259.000000\n",
       "mean         27.450733\n",
       "std           5.900353\n",
       "min          12.050000\n",
       "25%          23.690000\n",
       "50%          26.570000\n",
       "75%          30.040000\n",
       "max          97.650000\n",
       "Name: bmi, dtype: float64"
      ]
     },
     "execution_count": 6,
     "metadata": {},
     "output_type": "execute_result"
    }
   ],
   "source": [
    "# Use the describe() method to view the statistical information of BMI data of the rich\n",
    "bmi_rich = bmi_income[bmi_income.income == 8]['bmi']\n",
    "bmi_rich.describe()"
   ]
  },
  {
   "cell_type": "code",
   "execution_count": 7,
   "metadata": {},
   "outputs": [
    {
     "data": {
      "text/plain": [
       "count    232833.000000\n",
       "mean         28.537320\n",
       "std           6.971436\n",
       "min          12.020000\n",
       "25%          24.030000\n",
       "50%          27.370000\n",
       "75%          31.620000\n",
       "max          97.650000\n",
       "Name: bmi, dtype: float64"
      ]
     },
     "execution_count": 7,
     "metadata": {},
     "output_type": "execute_result"
    }
   ],
   "source": [
    "# Use the describe() method to view the statistical information of BMI data of the ordinary people\n",
    "bmi_ord = bmi_income[bmi_income.income != 8]['bmi']\n",
    "bmi_ord.describe()"
   ]
  },
  {
   "cell_type": "markdown",
   "metadata": {},
   "source": [
    "### Measures of Central Tendency"
   ]
  },
  {
   "cell_type": "markdown",
   "metadata": {},
   "source": [
    "#### Mean"
   ]
  },
  {
   "cell_type": "code",
   "execution_count": 8,
   "metadata": {},
   "outputs": [
    {
     "name": "stdout",
     "output_type": "stream",
     "text": [
      "BMI mean of rich people: 27.45\n",
      "BMI mean of ordinary people: 28.54\n"
     ]
    }
   ],
   "source": [
    "# Use the mean() method to calculate the arithmetic average value\n",
    "mean_rich = bmi_rich.mean()  \n",
    "mean_ord = bmi_ord.mean()\n",
    "print('BMI mean of rich people: %.2f' % mean_rich)\n",
    "print('BMI mean of ordinary people: %.2f' % mean_ord)"
   ]
  },
  {
   "cell_type": "markdown",
   "metadata": {},
   "source": [
    "The result making it look like the rich are thinner than ordinary people on average."
   ]
  },
  {
   "cell_type": "markdown",
   "metadata": {},
   "source": [
    "#### Mediam"
   ]
  },
  {
   "cell_type": "code",
   "execution_count": 9,
   "metadata": {},
   "outputs": [
    {
     "name": "stdout",
     "output_type": "stream",
     "text": [
      "BMI median of rich people: 26.57\n",
      "BMI median of ordinary people: 27.37\n"
     ]
    }
   ],
   "source": [
    "# Use the median() method to calculate the median value\n",
    "median_rich = bmi_rich.median()  \n",
    "median_ord = bmi_ord.median()\n",
    "print('BMI median of rich people: %.2f' % median_rich)\n",
    "print('BMI median of ordinary people: %.2f' % median_ord)"
   ]
  },
  {
   "cell_type": "markdown",
   "metadata": {},
   "source": [
    "#### Mode"
   ]
  },
  {
   "cell_type": "code",
   "execution_count": 10,
   "metadata": {},
   "outputs": [
    {
     "name": "stdout",
     "output_type": "stream",
     "text": [
      "BMI mode of rich people: 26.63 (counts 1246)\n",
      "BMI mode of ordinary people: 26.63 (counts 2766)\n"
     ]
    }
   ],
   "source": [
    "# Use stats.mode() method to calculate the mode value and the frequence\n",
    "mode_rich = stats.mode(bmi_rich)\n",
    "mode_ord = stats.mode(bmi_ord)\n",
    "print('BMI mode of rich people: %.2f (counts %d)' % (mode_rich.mode, mode_rich.count))\n",
    "print('BMI mode of ordinary people: %.2f (counts %d)' % (mode_ord.mode, mode_ord.count))"
   ]
  },
  {
   "cell_type": "markdown",
   "metadata": {},
   "source": [
    "#### Histogram\n",
    "* If the BMI data are equally divided into several intervals and the number of data falling into each interval is counted, the following histogram can be obtained. \n",
    "* The horizontal axis represents the value of BMI and the vertical axis is the frequence of the data occured in each interval.\n",
    "* The histogram can reflect the overall distribution of the data. It can be seen from the histogram that people's BMI is roughly concentrated between 20 and 40. There are also people who are is close to 100, which is very unusual and rare. \n",
    "* The highest bar is the mode.\n",
    "* It is worth noting that the difference in interval division in histogram can also affect the appearance of the graph, especially in the case of small amount of data."
   ]
  },
  {
   "cell_type": "code",
   "execution_count": 11,
   "metadata": {},
   "outputs": [
    {
     "data": {
      "image/png": "[encoded data removed]",
      "text/plain": [
       "<Figure size 1008x288 with 2 Axes>"
      ]
     },
     "metadata": {
      "needs_background": "light"
     },
     "output_type": "display_data"
    }
   ],
   "source": [
    "fig = plt.figure(figsize=(14,4))\n",
    "# Plot the histogram of the rich\n",
    "p1 = fig.add_subplot(1,2,1)\n",
    "plt.hist(bmi_rich, bins=50, rwidth=0.9)\n",
    "plt.xlabel('BMI')\n",
    "plt.ylabel('Counts')\n",
    "plt.title('BMI histogram of rich people')\n",
    "# Plot the histogram of the ordinary\n",
    "p2 = fig.add_subplot(1,2,2)\n",
    "plt.hist(bmi_ord, bins=50, rwidth=0.9)\n",
    "plt.xlabel('BMI')\n",
    "plt.ylabel('Counts')\n",
    "plt.title('BMI histogram of ordinary people')\n",
    "# Show the histogram\n",
    "plt.show()"
   ]
  },
  {
   "cell_type": "markdown",
   "metadata": {},
   "source": [
    "* To more clearly compare the data distribution of this two groups, we combine the above two histograms and intercepted the data of BMI between 10 and 60.\n",
    "* The ordinary people in purple have a higher BMI than the rich in red, which also show that the rich are thinner.This result is quite reliable from a graph of many data points than a single number such as the mean."
   ]
  },
  {
   "cell_type": "code",
   "execution_count": 12,
   "metadata": {},
   "outputs": [
    {
     "data": {
      "image/png": "[encoded data removed]",
      "text/plain": [
       "<Figure size 432x288 with 1 Axes>"
      ]
     },
     "metadata": {
      "needs_background": "light"
     },
     "output_type": "display_data"
    }
   ],
   "source": [
    "plt.hist(bmi_rich, bins=50, range=(10,60), label='rich', alpha=0.4, color='red')\n",
    "plt.hist(bmi_ord, bins=50, range=(10,60), label='ordinary', alpha=0.4, color='blue')\n",
    "plt.legend()\n",
    "plt.xlabel('BMI')\n",
    "plt.ylabel('probability density')\n",
    "plt.title('BMI histogram')\n",
    "plt.show()"
   ]
  },
  {
   "cell_type": "markdown",
   "metadata": {},
   "source": [
    "#### Skewness"
   ]
  },
  {
   "cell_type": "code",
   "execution_count": 13,
   "metadata": {},
   "outputs": [
    {
     "name": "stdout",
     "output_type": "stream",
     "text": [
      "mode range: (25.00, 26.00)\n",
      "median: 26.57\n",
      "mean: 27.45\n"
     ]
    }
   ],
   "source": [
    "# Compare the mean, median and mode of the rich\n",
    "bin_edge = np.arange(10,60,1)\n",
    "counts, bins = np.histogram(bmi_rich, bin_edge)\n",
    "mode_left = bins[np.argmax(counts)]\n",
    "mode_right = bins[np.argmax(counts)+1]\n",
    "mode_middle = (mode_left + mode_right) / 2\n",
    "print('mode range: (%.2f, %.2f)' % (mode_left, mode_right))\n",
    "print('median: %.2f' % median_rich)\n",
    "print('mean: %.2f' % mean_rich)"
   ]
  },
  {
   "cell_type": "markdown",
   "metadata": {},
   "source": [
    "The result shows that mode < median < mean, it si right-skewed."
   ]
  },
  {
   "cell_type": "code",
   "execution_count": 14,
   "metadata": {},
   "outputs": [
    {
     "name": "stdout",
     "output_type": "stream",
     "text": [
      "skewness: 2.58\n"
     ]
    }
   ],
   "source": [
    "# Use the skew() method to calculate the skewness of the rich\n",
    "print('skewness: %.2f' %bmi_rich.skew())"
   ]
  },
  {
   "cell_type": "code",
   "execution_count": 15,
   "metadata": {},
   "outputs": [
    {
     "data": {
      "image/png": "[encoded data removed]",
      "text/plain": [
       "<Figure size 432x288 with 1 Axes>"
      ]
     },
     "metadata": {
      "needs_background": "light"
     },
     "output_type": "display_data"
    }
   ],
   "source": [
    "# Use the plt.axvline() method to draw guide lines, such as mean, median and mode\n",
    "plt.axvline(x=mean_rich, linewidth=1, color='red', label='mean')\n",
    "plt.axvline(x=median_rich, linewidth=1, color='green', label='median')\n",
    "plt.axvline(x=mode_middle, linewidth=1, color='blue', label='mode')\n",
    "plt.legend()\n",
    "plt.hist(bmi_rich, bins=bin_edge, range=(10,60), rwidth=0.9, alpha=0.5)\n",
    "plt.xlabel('BMI')\n",
    "plt.ylabel('Counts')\n",
    "plt.title('BMI distribution of rich people')\n",
    "plt.show()"
   ]
  },
  {
   "cell_type": "code",
   "execution_count": 16,
   "metadata": {},
   "outputs": [
    {
     "name": "stdout",
     "output_type": "stream",
     "text": [
      "skewness: -0.74\n"
     ]
    }
   ],
   "source": [
    "# Use the skew() method to calculate the skewness of all sample\n",
    "print('skewness: %.2f' %bmi_income.income.skew())"
   ]
  },
  {
   "cell_type": "code",
   "execution_count": 17,
   "metadata": {},
   "outputs": [
    {
     "data": {
      "image/png": "[encoded data removed]",
      "text/plain": [
       "<Figure size 432x288 with 1 Axes>"
      ]
     },
     "metadata": {
      "needs_background": "light"
     },
     "output_type": "display_data"
    }
   ],
   "source": [
    "# Plot the histogram\n",
    "bins = np.arange(1,10)\n",
    "plt.hist(bmi_income.income, align='left', bins=bins, rwidth=0.9)\n",
    "plt.title('income distribution')\n",
    "plt.xlabel('income level')\n",
    "plt.ylabel('counts')\n",
    "plt.show()"
   ]
  },
  {
   "cell_type": "markdown",
   "metadata": {},
   "source": [
    "### Quartile Measures"
   ]
  },
  {
   "cell_type": "markdown",
   "metadata": {},
   "source": [
    "* Quartiles split the ranked data into 4 segments with an equal number of values per segment\n",
    "* The first quartile, Q1, is the value for which 25% of the observations are smaller and 75% are larger\n",
    "* Q2 is the same as the median (50% of the observations are smaller and 50% are larger)\n",
    "* Only 25% of the observations are greater than the third quartile\n",
    "* IQR is Q3 – Q1 "
   ]
  },
  {
   "cell_type": "code",
   "execution_count": 18,
   "metadata": {},
   "outputs": [
    {
     "name": "stdout",
     "output_type": "stream",
     "text": [
      "min:   12.05\n",
      "max:   97.65\n",
      "25%:   23.69\n",
      "50%:   26.57\n",
      "75%:   30.04\n",
      "IQR:   6.35\n"
     ]
    }
   ],
   "source": [
    "# Use quantile() method to calculate the quartile measures of the rich\n",
    "q1 = bmi_rich.quantile(0.25)\n",
    "q2 = bmi_rich.quantile(0.5)\n",
    "q3 = bmi_rich.quantile(0.75)\n",
    "IQR = q3 - q1\n",
    "print('min:  ', bmi_rich.min())\n",
    "print('max:  ', bmi_rich.max())\n",
    "print('25%:  ', q1)\n",
    "print('50%:  ', q2)\n",
    "print('75%:  ', q3)\n",
    "print('IQR:   %.2f' % IQR)"
   ]
  },
  {
   "cell_type": "markdown",
   "metadata": {},
   "source": [
    "#### Box Plot"
   ]
  },
  {
   "cell_type": "markdown",
   "metadata": {},
   "source": [
    "* A more intuitive representation of the quantile is the box chart, where the median, quartile, IQR and outliers are directly drawn.\n",
    "* The abnormally large or abnormally small values in the data will be idetified as outliers.\n",
    "* The upper and lower value of the box diagram are Q1-1.5IQR and Q3+1.5IQR, where Q1 and Q3 are quartiles.Numbers outside these two edge can be considered as outliers."
   ]
  },
  {
   "cell_type": "code",
   "execution_count": 19,
   "metadata": {},
   "outputs": [
    {
     "data": {
      "image/png": "[encoded data removed]",
      "text/plain": [
       "<Figure size 432x288 with 1 Axes>"
      ]
     },
     "metadata": {
      "needs_background": "light"
     },
     "output_type": "display_data"
    }
   ],
   "source": [
    "# Box Plot\n",
    "bmi_income['income_level'] = bmi_income.income.apply(lambda x: 'rich' if x==8 else 'ordinary')\n",
    "sns.boxplot(x='income_level', y='bmi', data=bmi_income, palette=\"Set3\")\n",
    "plt.show()"
   ]
  },
  {
   "cell_type": "markdown",
   "metadata": {},
   "source": [
    "### Measures of Variation"
   ]
  },
  {
   "cell_type": "code",
   "execution_count": 20,
   "metadata": {},
   "outputs": [
    {
     "name": "stdout",
     "output_type": "stream",
     "text": [
      " For rich people: Variance = 34.81, Standard deviation = 5.90\n",
      " For ordinary people: Variance = 48.60, Standard deviation = 6.97\n"
     ]
    }
   ],
   "source": [
    "# Use the var() and std() methods to calculate the variance and standard deviation\n",
    "var_rich = bmi_rich.var()\n",
    "std_rich = bmi_rich.std()\n",
    "print(' For rich people: Variance = %.2f, Standard deviation = %.2f' % (var_rich, std_rich))\n",
    "var_ord = bmi_ord.var()\n",
    "std_ord = bmi_ord.std()\n",
    "print(' For ordinary people: Variance = %.2f, Standard deviation = %.2f' % (var_ord, std_ord))"
   ]
  },
  {
   "cell_type": "markdown",
   "metadata": {},
   "source": [
    "### Covariance"
   ]
  },
  {
   "cell_type": "markdown",
   "metadata": {},
   "source": [
    "* The covariance measures the strength of the linear relationship between two numerical variables (X & Y)"
   ]
  },
  {
   "cell_type": "code",
   "execution_count": 21,
   "metadata": {},
   "outputs": [
    {
     "name": "stdout",
     "output_type": "stream",
     "text": [
      "[[1.12563400e-02 1.08190764e+00]\n",
      " [1.08190764e+00 4.67153513e+02]]\n"
     ]
    }
   ],
   "source": [
    "# Use the cov() function in NumPy to calculate the covariance of height and weight\n",
    "df2 = df[['height','weight', 'bmi' ]].dropna()  \n",
    "height = df2.height\n",
    "weight = df2.weight\n",
    "bmi = df2.bmi\n",
    "print(np.cov(height,weight)) "
   ]
  },
  {
   "cell_type": "markdown",
   "metadata": {},
   "source": [
    "The result is a two-by-two symmetric matrix, where the values on the diagonal represent the variances of this two variables, and the values in the first row and second column are the covariances of this two variables."
   ]
  },
  {
   "cell_type": "markdown",
   "metadata": {},
   "source": [
    "#### Pearson correlation coefficient"
   ]
  },
  {
   "cell_type": "code",
   "execution_count": 22,
   "metadata": {},
   "outputs": [
    {
     "name": "stdout",
     "output_type": "stream",
     "text": [
      "0.4718041740847708\n"
     ]
    }
   ],
   "source": [
    "# Use the corrcoef() function in NumPy to calculate the Pearson correlation coefficient of height and weight\n",
    "df2 = df[['height','weight', 'bmi' ]].dropna()  \n",
    "height = df2.height\n",
    "weight = df2.weight\n",
    "a = np.corrcoef(height, weight)[0,1]  \n",
    "print(a)"
   ]
  },
  {
   "cell_type": "markdown",
   "metadata": {},
   "source": [
    "Pearson correlation coefficient\n",
    "* Ranges between –1 and 1\n",
    "* The closer to –1, the stronger the negative linear relationship\n",
    "* The closer to 1, the stronger the positive linear relationship\n",
    "* The closer to 0, the weaker the linear relationship"
   ]
  },
  {
   "cell_type": "markdown",
   "metadata": {},
   "source": [
    "The correlation coefficient is 0.47, which indicates that there is some correlation between height and weight.\n",
    "* From the scatter chart below. It can be seen that the overall trend of weight increases with the increase of height, but the relationship is not obvious."
   ]
  },
  {
   "cell_type": "code",
   "execution_count": 23,
   "metadata": {},
   "outputs": [
    {
     "data": {
      "image/png": "[encoded data removed]",
      "text/plain": [
       "<Figure size 432x288 with 1 Axes>"
      ]
     },
     "metadata": {
      "needs_background": "light"
     },
     "output_type": "display_data"
    }
   ],
   "source": [
    "# Scatter Chart\n",
    "plt.plot(height,weight, marker='.', linestyle='none', alpha = 0.05)\n",
    "plt.xlabel('height (m)')\n",
    "plt.ylabel('weight (kg)')\n",
    "plt.title('correlation of weight and height')\n",
    "plt.show()"
   ]
  },
  {
   "cell_type": "markdown",
   "metadata": {},
   "source": [
    "* Similarly, we calculate a correlation coefficient of 0.87 between BMI and weight, a very strong positive correlation, which can also be seen from their scatter plots."
   ]
  },
  {
   "cell_type": "code",
   "execution_count": 24,
   "metadata": {},
   "outputs": [
    {
     "name": "stdout",
     "output_type": "stream",
     "text": [
      "Pearson correlation coefficient: 0.87\n"
     ]
    },
    {
     "data": {
      "image/png": "[encoded data removed]",
      "text/plain": [
       "<Figure size 432x288 with 1 Axes>"
      ]
     },
     "metadata": {
      "needs_background": "light"
     },
     "output_type": "display_data"
    }
   ],
   "source": [
    "# Calculate the Pearson correlation coefficient of BMI and weight\n",
    "corr = np.corrcoef(weight, bmi)\n",
    "print('Pearson correlation coefficient: %.2f' % corr[0,1] )\n",
    "# Scatter Chart\n",
    "plt.plot(weight,bmi, marker='.', linestyle='none', alpha = 0.05)\n",
    "plt.xlabel('weight (kg)')\n",
    "plt.ylabel('BMI')\n",
    "plt.title('correlation of weight and BMI')\n",
    "plt.show()"
   ]
  },
  {
   "cell_type": "markdown",
   "metadata": {},
   "source": [
    "* The correlation coefficient between BMI and height is -0.006, which is negligible.\n",
    "* In fact, since BMI is a measure of fat and thin, tall people are not necessarily fat."
   ]
  },
  {
   "cell_type": "code",
   "execution_count": 25,
   "metadata": {},
   "outputs": [
    {
     "name": "stdout",
     "output_type": "stream",
     "text": [
      "Pearson correlation coefficient: -0.0060\n"
     ]
    },
    {
     "data": {
      "image/png": "[encoded data removed]",
      "text/plain": [
       "<Figure size 432x288 with 1 Axes>"
      ]
     },
     "metadata": {
      "needs_background": "light"
     },
     "output_type": "display_data"
    }
   ],
   "source": [
    "# Calculate the Pearson correlation coefficient of BMI and height\n",
    "corr = np.corrcoef(height, bmi)\n",
    "print('Pearson correlation coefficient: %.4f' % corr[0,1] )\n",
    "# Scatter Chart\n",
    "plt.plot(height,bmi, marker='.', linestyle='none', alpha = 0.05)\n",
    "plt.xlabel('height (m)')\n",
    "plt.ylabel('BMI')\n",
    "plt.title('correlation of BMI and height')\n",
    "plt.show()"
   ]
  },
  {
   "cell_type": "markdown",
   "metadata": {},
   "source": [
    "## Example2 -- Hypothesis Testing\n",
    "* Question: Are the rich thinner than the others?"
   ]
  },
  {
   "cell_type": "code",
   "execution_count": 26,
   "metadata": {},
   "outputs": [],
   "source": [
    "import pandas as pd\n",
    "import numpy as np\n",
    "import matplotlib.pyplot as plt\n",
    "import seaborn as sns\n",
    "import brfss\n",
    "from scipy import stats  \n",
    "\n",
    "df = brfss.ReadBrfss()  # Read the data"
   ]
  },
  {
   "cell_type": "code",
   "execution_count": 27,
   "metadata": {},
   "outputs": [],
   "source": [
    "df2 = df[['bmi', 'income']].dropna()\n",
    "bmi = df2.bmi\n",
    "bmi_rich = df2[df2.income == 8].bmi  # The bmi data of the rich\n",
    "bmi_ord = df2[df2.income != 8].bmi  # The bmi data of the ordinary"
   ]
  },
  {
   "cell_type": "markdown",
   "metadata": {},
   "source": [
    "### One-sample Test"
   ]
  },
  {
   "cell_type": "markdown",
   "metadata": {},
   "source": [
    "* To illustrate this problem as one-sample test, we only used the BMI data of the rich, and we want to compare it with the average BMI of the population.\n",
    "* Assume that the mean of the population is the same as the mean of the sample. Since the sample size of 400000 is very large, we can do this approximation by the central limit theorem."
   ]
  },
  {
   "cell_type": "code",
   "execution_count": 29,
   "metadata": {},
   "outputs": [
    {
     "data": {
      "text/plain": [
       "28.18812531332513"
      ]
     },
     "execution_count": 29,
     "metadata": {},
     "output_type": "execute_result"
    }
   ],
   "source": [
    "# Calculate the mean value of all the sample\n",
    "mu = np.mean(bmi) \n",
    "mu"
   ]
  },
  {
   "cell_type": "markdown",
   "metadata": {},
   "source": [
    "* Null hypothesis: the mean  of the rich's BMI is equal to the mean of the population's BMI of 28.188;\n",
    "* Alternative hypothesis: the mean  of the rich's BMI is less than the mean of the population's BMI of 28.188;\n",
    "* This was one-tail T-tests, and the test statistics is the t-statistic."
   ]
  },
  {
   "cell_type": "markdown",
   "metadata": {},
   "source": [
    "* t Test of Hypothesis for the Mean (σ Unknown)\n",
    "* t Test is more suitable when the sample size is small.\n",
    "* In the case of large samples, the t-test and the z-test are approximate, so the t-test can also be used as well.\n",
    "* The function of the t-test in the scipy.stats module is **ttest_1samp()**, which is used in the comparison of a single sample mean and population mean. The result is a t statistic and a P-value\n",
    "\n"
   ]
  },
  {
   "cell_type": "code",
   "execution_count": 30,
   "metadata": {},
   "outputs": [
    {
     "name": "stdout",
     "output_type": "stream",
     "text": [
      "p value is 0.0000000000\n"
     ]
    }
   ],
   "source": [
    "t_stats, p_value = stats.ttest_1samp(bmi_rich, mu)\n",
    "print(\"p value is %.10f\" % (p_value/2))  # one-tail test\n"
   ]
  },
  {
   "cell_type": "markdown",
   "metadata": {},
   "source": [
    "* The p-value is 0 under the current precision. Therefore, we rejected the null hypothesis and accepted the alternative hypothesis, which concluded that the rich people are thinner.\n",
    "* If we used only part of the BMI data, we would get a completely different result."
   ]
  },
  {
   "cell_type": "code",
   "execution_count": 31,
   "metadata": {},
   "outputs": [
    {
     "name": "stdout",
     "output_type": "stream",
     "text": [
      "p value is 0.2906513576\n",
      "p value is 0.0000660545\n"
     ]
    }
   ],
   "source": [
    "t_stats, p_value = stats.ttest_1samp(bmi_rich[:500], mu) # Setect the first 500 data for testing\n",
    "print(\"p value is %.10f\" % (p_value/2))\n",
    "t_stats, p_value = stats.ttest_1samp(bmi_rich[:4000], mu)  # Setect the first 4000 data for testing\n",
    "print(\"p value is %.10f\" % (p_value/2))"
   ]
  },
  {
   "cell_type": "markdown",
   "metadata": {},
   "source": [
    "* When the first 500 data were selected for t-test, the p-value was 0.29. While if the significance level was 0.1, the null hypothesis could not be rejected. \n",
    "* When the first 4000 data were selected for t-test, the P value was 0.000066. If the significance level was 0.1, the null hypothesis could be rejected.\n",
    "* So the larger the sample size, the clearer the results you get."
   ]
  },
  {
   "cell_type": "markdown",
   "metadata": {},
   "source": [
    "## Two-Sample Test\n"
   ]
  },
  {
   "cell_type": "markdown",
   "metadata": {},
   "source": [
    "* Hypothesis tests of the mean of two independent samples.\n",
    "* Two independent samples:BMI data of the rich and BMI data of the ordinary person.\n",
    "* Null hypothesis: the mean BMI of the rich and the mean BMI of the ordinary people is same.\n",
    "* Alternative hypothesis: the mean BMI of the rich is smaller than the mean BMI of the ordinary people.\n",
    "* This is still a one-sided test.\n",
    "* We use the t-test, using the **ttest_ind()** function in scipy.stats to calculate the p-value of the t-test for two independent samples.\n",
    "\n"
   ]
  },
  {
   "cell_type": "code",
   "execution_count": 32,
   "metadata": {},
   "outputs": [
    {
     "name": "stdout",
     "output_type": "stream",
     "text": [
      "p value is 0.0000000000\n",
      "p value is 0.1219871502\n",
      "p value is 0.0000846839\n"
     ]
    }
   ],
   "source": [
    "\n",
    "t_stats, p_value = stats.ttest_ind(bmi_rich, bmi_ord)\n",
    "print(\"p value is %.10f\" % (p_value/2))\n",
    "t_stats, p_value = stats.ttest_ind(bmi_rich[:500], bmi_ord[:500])\n",
    "print(\"p value is %.10f\" % (p_value/2))\n",
    "t_stats, p_value = stats.ttest_ind(bmi_rich[:1000], bmi_ord[:1000])\n",
    "print(\"p value is %.10f\" % (p_value/2))"
   ]
  },
  {
   "cell_type": "markdown",
   "metadata": {},
   "source": [
    "Choosing the significance level of 0.1. When the sample size is only 500, the p-value is greater than 0.1, so the null hypothesis cannot be rejected.When the sample size is 1000 or more, the p-value is less than 0.1, rejecting the null hypothesis and proving that the rich are thinner than the average person."
   ]
  }
 ],
 "metadata": {
  "kernelspec": {
   "display_name": "Python 3",
   "language": "python",
   "name": "python3"
  },
  "language_info": {
   "codemirror_mode": {
    "name": "ipython",
    "version": 3
   },
   "file_extension": ".py",
   "mimetype": "text/x-python",
   "name": "python",
   "nbconvert_exporter": "python",
   "pygments_lexer": "ipython3",
   "version": "3.9.7"
  }
 },
 "nbformat": 4,
 "nbformat_minor": 4
}
