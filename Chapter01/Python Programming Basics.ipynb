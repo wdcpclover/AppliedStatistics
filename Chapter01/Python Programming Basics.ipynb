{
 "cells": [
  {
   "cell_type": "markdown",
   "id": "4dedbf49-60f8-438a-91a1-fabf579923c2",
   "metadata": {},
   "source": [
    "# **Python Programming Basics: An Introduction**\n",
    "\n",
    "Welcome to the foundational course on Python programming! This session is designed to introduce you to the essentials of Python, including its coding standards, keywords, variable definitions, basic data types, and key data structures. We'll explore how each component is used in programming, with practical examples to help you understand their applications and differences.\n",
    "\n",
    "## 1. Python Coding Standards (PEP 8)\n",
    "\n",
    "**Introduction**: Python Enhancement Proposal (PEP) 8 is the style guide for writing clean, readable Python code. It outlines conventions for formatting Python code, enhancing code readability and consistency across projects.\n",
    "\n",
    "**Example**: Proper formatting according to PEP 8:"
   ]
  },
  {
   "cell_type": "code",
   "execution_count": 1,
   "id": "eeb7fe24-8dda-4620-a239-ff3f2b7671a0",
   "metadata": {
    "tags": []
   },
   "outputs": [
    {
     "name": "stdout",
     "output_type": "stream",
     "text": [
      "78.53981633974483\n"
     ]
    }
   ],
   "source": [
    "import math\n",
    "\n",
    "def calculate_area(radius):\n",
    "    # Simple function to calculate the area of a circle\n",
    "    area = math.pi * radius ** 2\n",
    "    return area\n",
    "\n",
    "circle_area = calculate_area(5)\n",
    "print(circle_area)  # Outputs the area of the circle\n"
   ]
  },
  {
   "cell_type": "markdown",
   "id": "785928be-a663-4b94-8f3c-5ef088103dad",
   "metadata": {},
   "source": [
    "This script demonstrates the importance of proper indentation, naming conventions, and the inclusion of comments to improve code readability. In Python, unlike many other programming languages that use braces `{}` to define blocks of code, indentation is used to define the groups of statements (blocks) that belong together. This approach not only makes Python unique but also contributes to its readability and clarity.\n",
    "\n",
    "**PEP 8 Indentation Guidelines**\n",
    "\n",
    "1. **Use 4 spaces per indentation level.**\n",
    "   - Consistently using four spaces to indent helps in maintaining readability and clarity across various environments. PEP 8 specifically discourages the use of tabs because the perception of tabs can vary depending on the viewer's environment (e.g., some text editors might display a tab as 4 spaces, while others might display it as 8 spaces).\n",
    "2. **Part of a multi-line construct:**\n",
    "   - If your statements extend over multiple lines, you should align the wrapped elements either vertically using Python's implicit line joining inside parentheses, brackets, and braces, or using a hanging indent.\n",
    "\n",
    "**Examples of Correct Indentation**\n",
    "\n",
    "Here are a few examples to illustrate proper indentation practices as per PEP 8:\n",
    "\n",
    "- **Single Level of Indentation:**"
   ]
  },
  {
   "cell_type": "code",
   "execution_count": 2,
   "id": "843a0036-270d-4b02-8bf4-437f44c9343a",
   "metadata": {
    "tags": []
   },
   "outputs": [],
   "source": [
    "def my_function():\n",
    "    for i in range(10):\n",
    "        print(i)\n"
   ]
  },
  {
   "cell_type": "markdown",
   "id": "ad5bc3bc-edbf-40b2-ac21-b78f01fec125",
   "metadata": {},
   "source": [
    "- In this example, `for i in range(10):` is indented four spaces inside the function definition, and `print(i)` is indented four spaces relative to the `for` loop, making it clear what block of code the `print` statement belongs to.\n",
    "- **Multi-Line Construct (Aligned with Opening Delimiter):**"
   ]
  },
  {
   "cell_type": "code",
   "execution_count": 3,
   "id": "4f5b1b18-9212-4427-a5c4-0a20e01127a4",
   "metadata": {
    "tags": []
   },
   "outputs": [],
   "source": [
    "items = ['apples', 'oranges', 'pears',\n",
    "         'bananas', 'grapes', 'berries']\n"
   ]
  },
  {
   "cell_type": "markdown",
   "id": "1c512074-3ddd-4844-97ec-2e33c2594f48",
   "metadata": {},
   "source": [
    "- This list is spread over two lines, and the continuation line is aligned with the opening delimiter (the bracket).\n",
    "- **Hanging Indents (Further Indented to Distinguish from the Rest):**"
   ]
  },
  {
   "cell_type": "code",
   "execution_count": 4,
   "id": "d409fc79-cfd8-4fc8-aa76-b31f8d091be7",
   "metadata": {
    "tags": []
   },
   "outputs": [
    {
     "ename": "NameError",
     "evalue": "name 'some_condition' is not defined",
     "output_type": "error",
     "traceback": [
      "\u001b[1;31m---------------------------------------------------------------------------\u001b[0m",
      "\u001b[1;31mNameError\u001b[0m                                 Traceback (most recent call last)",
      "Cell \u001b[1;32mIn[4], line 2\u001b[0m\n\u001b[0;32m      1\u001b[0m \u001b[38;5;66;03m# More indentation included to distinguish this from the rest.\u001b[39;00m\n\u001b[1;32m----> 2\u001b[0m \u001b[38;5;28;01mif\u001b[39;00m (\u001b[43msome_condition\u001b[49m \u001b[38;5;129;01mand\u001b[39;00m\n\u001b[0;32m      3\u001b[0m     another_condition):\n\u001b[0;32m      4\u001b[0m     do_something()\n",
      "\u001b[1;31mNameError\u001b[0m: name 'some_condition' is not defined"
     ]
    }
   ],
   "source": [
    "# More indentation included to distinguish this from the rest.\n",
    "if (some_condition and\n",
    "    another_condition):\n",
    "    do_something()\n"
   ]
  },
  {
   "cell_type": "markdown",
   "id": "2a3be94e-fc12-48b9-982d-c1c54cae268a",
   "metadata": {
    "tags": []
   },
   "source": [
    "**Hanging Indents with Comments:**"
   ]
  },
  {
   "cell_type": "code",
   "execution_count": null,
   "id": "6bdf9814-209e-49c4-b573-411621212c73",
   "metadata": {
    "tags": []
   },
   "outputs": [],
   "source": [
    "# Aligned with the opening delimiter.\n",
    "foo = long_function_name(var_one, var_two,\n",
    "                         var_three, var_four)\n"
   ]
  },
  {
   "cell_type": "markdown",
   "id": "3f2a0b77-88fc-4318-866e-a8a05088e56e",
   "metadata": {},
   "source": [
    "**Why Follow These Indentation Rules?**\n",
    "\n",
    "Following these indentation rules is important not just for the aesthetic or readability of your code, but also because indentation in Python is syntactical. Incorrect indentation can lead to `IndentationError` or can change the logic of the code by altering the blocks in which commands are executed, leading to bugs that can be hard to track down.\n",
    "\n",
    "By adhering to these PEP 8 guidelines, your Python code will be cleaner, more readable, and more maintainable, making it easier for others (and yourself at a later time) to understand and modify it.\n",
    "\n",
    "## 2. Python Keywords\n",
    "\n",
    "**Introduction**: Keywords are the building blocks of Python syntax. They are reserved words that the language uses to define its rules and structure.\n",
    "\n",
    "**Example**:"
   ]
  },
  {
   "cell_type": "code",
   "execution_count": null,
   "id": "96009e11-d6de-4351-8ce5-4b7e7c282b26",
   "metadata": {
    "tags": []
   },
   "outputs": [],
   "source": [
    "import keyword\n",
    "print(keyword.kwlist)  # Outputs all the reserved keywords in Python\n"
   ]
  },
  {
   "cell_type": "markdown",
   "id": "f5bd0b3d-0286-48d8-b236-c059590153e6",
   "metadata": {},
   "source": [
    "This will list keywords such as `if`, `else`, `class`, `try`, etc., which you cannot use as identifiers like variable names.\n",
    "\n",
    "## 3. Python Data Types\n",
    "\n",
    "**Introduction**: Python supports various data types, which are categories of values that determine what operations can be performed on them. Common types include integers, floats, strings, and booleans.\n",
    "\n",
    "**Examples**:"
   ]
  },
  {
   "cell_type": "code",
   "execution_count": null,
   "id": "84026c9e-b8e4-44c4-9cdd-150e710f0c30",
   "metadata": {
    "tags": []
   },
   "outputs": [],
   "source": [
    "number = 42                # Integer\n",
    "pi_value = 3.14159         # Float\n",
    "name = \"Alice\"             # String\n",
    "is_valid = True            # Boolean\n",
    "\n",
    "print(type(number), type(pi_value), type(name), type(is_valid))\n"
   ]
  },
  {
   "cell_type": "markdown",
   "id": "61170abb-d458-495e-a6d8-e052fb480b15",
   "metadata": {},
   "source": [
    "Each variable type influences the behavior of the variable and the operations available to it.\n",
    "\n",
    "4. Variable Definitions\n",
    "Introduction:\n",
    "In Python, variables are names attached to particular objects. Python is dynamically typed, which means the type of variable can change as the program executes.\n",
    "\n",
    "Example:"
   ]
  },
  {
   "cell_type": "markdown",
   "id": "8b0408b0-d199-4d20-8b56-ba6c50d93fd9",
   "metadata": {},
   "source": [
    "Each variable type influences the behavior of the variable and the operations available to it.\n",
    "\n",
    "## 4. Variable Definitions\n",
    "\n",
    "**Introduction**: In Python, variables are names attached to particular objects. Python is dynamically typed, which means the type of variable can change as the program executes.\n",
    "\n",
    "**Example**:"
   ]
  },
  {
   "cell_type": "code",
   "execution_count": null,
   "id": "5db24b86-163f-4c12-bffc-cdadbe192d59",
   "metadata": {
    "tags": []
   },
   "outputs": [],
   "source": [
    "x = 10          # Initially an integer\n",
    "x = \"Ten\"       # Now a string\n",
    "print(x)\n"
   ]
  },
  {
   "cell_type": "markdown",
   "id": "9bb23189-605e-4fef-ac66-db86a01ed68b",
   "metadata": {},
   "source": [
    "This demonstrates Python's dynamic typing system, where `x` changes from an integer to a string.\n",
    "\n",
    "## 5. Common Data Structures\n",
    "\n",
    "**Introduction**: Python includes several built-in data structures that are essential for storing and organizing data. Each structure has distinct properties and usage scenarios.\n",
    "\n",
    "- **Lists**: Ordered and mutable collections of items.\n",
    "- **Tuples**: Ordered and immutable collections of items.\n",
    "- **Dictionaries**: Unordered collections of key-value pairs.\n",
    "- **Sets**: Unordered collections of unique elements.\n",
    "\n",
    "**List Example**:"
   ]
  },
  {
   "cell_type": "code",
   "execution_count": null,
   "id": "501d04e7-ad64-4858-b6da-40c6a9097b0d",
   "metadata": {
    "tags": []
   },
   "outputs": [],
   "source": [
    "fruits = [\"apple\", \"banana\", \"cherry\"]\n",
    "fruits.append(\"orange\")  # Adding an item to the list\n",
    "print(fruits)\n"
   ]
  },
  {
   "cell_type": "markdown",
   "id": "3b3ce3c4-acbd-4f14-9100-4bad4edd92cb",
   "metadata": {
    "tags": []
   },
   "source": [
    "**Tuple Example**:"
   ]
  },
  {
   "cell_type": "code",
   "execution_count": null,
   "id": "90248eca-29e3-4a6f-928a-37c3b928a300",
   "metadata": {
    "tags": []
   },
   "outputs": [],
   "source": [
    "coordinates = (10, 20)\n",
    "print(coordinates)\n"
   ]
  },
  {
   "cell_type": "markdown",
   "id": "8da03869-fb91-44cc-954a-64ce66a0fff4",
   "metadata": {},
   "source": [
    "**Dictionary Example**:"
   ]
  },
  {
   "cell_type": "code",
   "execution_count": null,
   "id": "666a0e3d-8519-4072-8135-f57cb72c2776",
   "metadata": {
    "tags": []
   },
   "outputs": [],
   "source": [
    "person = {\"name\": \"John\", \"age\": 30}\n",
    "person[\"location\"] = \"New York\"  # Adding a new key-value pair\n",
    "print(person)\n"
   ]
  },
  {
   "cell_type": "markdown",
   "id": "bab8be70-41ad-4cce-b232-39d75eda7fd6",
   "metadata": {},
   "source": [
    "**Set Example**:"
   ]
  },
  {
   "cell_type": "code",
   "execution_count": null,
   "id": "e05d6c5e-edec-4b27-a700-4c669e176342",
   "metadata": {
    "tags": []
   },
   "outputs": [],
   "source": [
    "numbers = {1, 2, 3}\n",
    "numbers.add(4)  # Adding an item\n",
    "print(numbers)\n"
   ]
  },
  {
   "cell_type": "markdown",
   "id": "79cd29f9-714b-40a7-909c-0dc92a270777",
   "metadata": {},
   "source": [
    "**Differences**:\n",
    "\n",
    "- Lists and tuples are similar but a key difference is that tuples are immutable.\n",
    "- Dictionaries allow access via keys and not via their position.\n",
    "- Sets are ideal for membership testing and eliminating duplicate entries.\n",
    "\n",
    "## 6. Accessing Python Command Help\n",
    "\n",
    "**Introduction**: The `help()` function is a built-in utility in Python that you can use to display information about modules, keywords, attributes, and more.\n",
    "\n",
    "**Example**:"
   ]
  },
  {
   "cell_type": "code",
   "execution_count": null,
   "id": "0fd23246-94d5-421f-a307-fbf717bfb898",
   "metadata": {
    "tags": []
   },
   "outputs": [],
   "source": [
    "# help()"
   ]
  },
  {
   "cell_type": "code",
   "execution_count": 5,
   "id": "5db4cdd7-40cf-4a70-b999-996da16f23cd",
   "metadata": {},
   "outputs": [
    {
     "name": "stdout",
     "output_type": "stream",
     "text": [
      "Help on built-in function print in module builtins:\n",
      "\n",
      "print(*args, sep=' ', end='\\n', file=None, flush=False)\n",
      "    Prints the values to a stream, or to sys.stdout by default.\n",
      "    \n",
      "    sep\n",
      "      string inserted between values, default a space.\n",
      "    end\n",
      "      string appended after the last value, default a newline.\n",
      "    file\n",
      "      a file-like object (stream); defaults to the current sys.stdout.\n",
      "    flush\n",
      "      whether to forcibly flush the stream.\n",
      "\n"
     ]
    }
   ],
   "source": [
    "help(print)  # Displays information about the print function\n"
   ]
  },
  {
   "cell_type": "code",
   "execution_count": null,
   "id": "44e56fea-cd55-42e1-af0a-d3a48fc6ac25",
   "metadata": {},
   "outputs": [],
   "source": []
  }
 ],
 "metadata": {
  "kernelspec": {
   "display_name": "Python 3 (ipykernel)",
   "language": "python",
   "name": "python3"
  },
  "language_info": {
   "codemirror_mode": {
    "name": "ipython",
    "version": 3
   },
   "file_extension": ".py",
   "mimetype": "text/x-python",
   "name": "python",
   "nbconvert_exporter": "python",
   "pygments_lexer": "ipython3",
   "version": "3.11.5"
  }
 },
 "nbformat": 4,
 "nbformat_minor": 5
}
